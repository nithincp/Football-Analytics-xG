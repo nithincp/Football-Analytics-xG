{
  "cells": [
    {
      "cell_type": "code",
      "execution_count": 1,
      "metadata": {
        "id": "RdeLXz4ZdCuN"
      },
      "outputs": [],
      "source": [
        "import pandas as pd"
      ]
    },
    {
      "cell_type": "code",
      "execution_count": 2,
      "metadata": {
        "id": "X33EcCKvkilK"
      },
      "outputs": [],
      "source": [
        "pd.set_option('display.max_rows', 1000)"
      ]
    },
    {
      "cell_type": "code",
      "execution_count": 5,
      "metadata": {
        "id": "ihNvyUibktHI"
      },
      "outputs": [],
      "source": [
        "url = 'https://fbref.com/en/comps/9/schedule/Premier-League-Scores-and-Fixtures'"
      ]
    },
    {
      "cell_type": "code",
      "execution_count": 6,
      "metadata": {
        "id": "dHz2z7nemYav"
      },
      "outputs": [],
      "source": [
        "epl_list = []"
      ]
    },
    {
      "cell_type": "code",
      "execution_count": 8,
      "metadata": {
        "id": "Fgn1kXb-me68"
      },
      "outputs": [],
      "source": [
        "epl_list.append(pd.read_html(url,index_col=False,flavor='lxml')[0])"
      ]
    },
    {
      "cell_type": "code",
      "execution_count": 9,
      "metadata": {
        "id": "3GcUedT8opsv"
      },
      "outputs": [],
      "source": [
        "epl_list = pd.concat(epl_list, axis=0, ignore_index=True)"
      ]
    },
    {
      "cell_type": "code",
      "execution_count": 12,
      "metadata": {
        "id": "R_j7iRseovTX"
      },
      "outputs": [],
      "source": [
        "epl_df = epl_list[epl_list['Wk'].notna()]"
      ]
    },
    {
      "cell_type": "code",
      "execution_count": 14,
      "metadata": {
        "id": "1yd_ZAhvqRWH"
      },
      "outputs": [],
      "source": [
        "epl_df = epl_df.rename(columns={'xG':'xGHome'\n",
        "                   ,'xG.1':'xGAway'})"
      ]
    },
    {
      "cell_type": "code",
      "execution_count": 20,
      "metadata": {
        "colab": {
          "base_uri": "https://localhost:8080/"
        },
        "id": "HLsenxeeqg43",
        "outputId": "a166aca6-d848-4ce4-b899-e273b032e11a"
      },
      "outputs": [
        {
          "name": "stdout",
          "output_type": "stream",
          "text": [
            "['Wk', 'Day', 'Date', 'Time', 'Home', 'xGHome', 'Score', 'xGAway', 'Away', 'Attendance', 'Venue', 'Referee', 'HomeScore', 'AwayScore']\n"
          ]
        }
      ],
      "source": [
        "print(epl_df.columns.tolist())"
      ]
    },
    {
      "cell_type": "code",
      "execution_count": 16,
      "metadata": {
        "id": "fJkL0ZLOqrd8"
      },
      "outputs": [],
      "source": [
        "epl_df['HomeScore'] = epl_df['Score'].str[0]\n",
        "epl_df['AwayScore'] = epl_df['Score'].str[2]"
      ]
    },
    {
      "cell_type": "code",
      "execution_count": 19,
      "metadata": {
        "id": "7rQb5Q4ArQ-3"
      },
      "outputs": [],
      "source": [
        "epl_df = epl_df.drop(['Match Report','Notes'],axis=1)"
      ]
    },
    {
      "cell_type": "code",
      "execution_count": 21,
      "metadata": {
        "id": "_5sPYP6-rw2_"
      },
      "outputs": [],
      "source": [
        "epl_df['Date'] = pd.to_datetime(epl_df['Date'])"
      ]
    },
    {
      "cell_type": "code",
      "execution_count": null,
      "metadata": {
        "id": "v_wBYfDLr490"
      },
      "outputs": [],
      "source": [
        "print(epl_df.head(5))"
      ]
    },
    {
      "cell_type": "code",
      "execution_count": 23,
      "metadata": {
        "id": "hZl3uSLNsaVH"
      },
      "outputs": [],
      "source": [
        "epl_df.sort_values(by='Date', inplace=True)"
      ]
    },
    {
      "cell_type": "code",
      "execution_count": 24,
      "metadata": {
        "id": "ny8cyQlqsrrj"
      },
      "outputs": [],
      "source": [
        "epl_df = epl_df[['Wk','Day','Date','Time','Home','HomeScore','xGHome','AwayScore','xGAway','Away','Attendance','Venue','Referee']]"
      ]
    },
    {
      "cell_type": "code",
      "execution_count": 25,
      "metadata": {
        "id": "szED3RGVs6ef"
      },
      "outputs": [],
      "source": [
        "epl_df = epl_df.dropna()"
      ]
    },
    {
      "cell_type": "code",
      "execution_count": 27,
      "metadata": {
        "id": "FfnA0_s6tKdS"
      },
      "outputs": [],
      "source": [
        "epl_df = epl_df[['Date','Home','HomeScore','xGHome','AwayScore','xGAway','Away']].reset_index(drop=True)"
      ]
    },
    {
      "cell_type": "code",
      "execution_count": null,
      "metadata": {
        "id": "eMA7fCPGtRg_"
      },
      "outputs": [],
      "source": [
        "epl_df"
      ]
    },
    {
      "cell_type": "code",
      "execution_count": 29,
      "metadata": {
        "id": "yxVN7DJXt9QY"
      },
      "outputs": [],
      "source": [
        "league_Mean_Home_xG = round((epl_df['xGHome'].mean()),2)\n",
        "league_Mean_Away_xG = round((epl_df['xGAway'].mean()),2)"
      ]
    },
    {
      "cell_type": "code",
      "execution_count": null,
      "metadata": {
        "id": "PvX1FnPguCXV"
      },
      "outputs": [],
      "source": [
        "print(f'The mean home expected goals is {league_Mean_Home_xG}')\n",
        "print(f'The mean away expected goals is {league_Mean_Away_xG}')"
      ]
    },
    {
      "cell_type": "code",
      "execution_count": 31,
      "metadata": {
        "id": "2QUyLW0X0CYh"
      },
      "outputs": [],
      "source": [
        "home_team_xg_strength_offense = epl_df.groupby('Home').agg({'xGHome': 'sum', 'Home': ['count', 'first']})"
      ]
    },
    {
      "cell_type": "code",
      "execution_count": null,
      "metadata": {
        "id": "8-rNlr3_0Gcw"
      },
      "outputs": [],
      "source": [
        "home_team_xg_strength_offense"
      ]
    },
    {
      "cell_type": "code",
      "execution_count": 36,
      "metadata": {
        "id": "_NPZGxU80vvX"
      },
      "outputs": [],
      "source": [
        "home_team_xg_strength_offense.columns = ['xGHome', 'TotalGames', 'Home']"
      ]
    },
    {
      "cell_type": "code",
      "execution_count": 38,
      "metadata": {
        "id": "MWBlclcM01EP"
      },
      "outputs": [],
      "source": [
        "home_team_xg_strength_offense['xGHome_offense_rating'] = (home_team_xg_strength_offense['xGHome'] / home_team_xg_strength_offense['TotalGames']) / league_Mean_Home_xG"
      ]
    },
    {
      "cell_type": "code",
      "execution_count": 40,
      "metadata": {
        "id": "y3BSRxGS1cc1"
      },
      "outputs": [],
      "source": [
        "home_team_xg_strength_offense = home_team_xg_strength_offense.reset_index(drop = True)"
      ]
    },
    {
      "cell_type": "code",
      "execution_count": 42,
      "metadata": {
        "id": "ZNLJToeh1fQF"
      },
      "outputs": [],
      "source": [
        "home_team_xg_strength_offense = pd.DataFrame(home_team_xg_strength_offense)"
      ]
    },
    {
      "cell_type": "code",
      "execution_count": 43,
      "metadata": {
        "id": "N-QuuLzZ1n1i"
      },
      "outputs": [],
      "source": [
        "home_team_xg_strength_offense.columns = ['xGHome', 'TotalGames','Home','xGHome_offense_rating']"
      ]
    },
    {
      "cell_type": "code",
      "execution_count": 45,
      "metadata": {
        "id": "MYzwzLaD1qpp"
      },
      "outputs": [],
      "source": [
        "home_team_xg_strength_offense = home_team_xg_strength_offense[['Home','xGHome','TotalGames','xGHome_offense_rating']]"
      ]
    },
    {
      "cell_type": "code",
      "execution_count": null,
      "metadata": {
        "id": "rl76BL5f10X5"
      },
      "outputs": [],
      "source": [
        "home_team_xg_strength_offense.sort_values('xGHome_offense_rating', ascending=False)"
      ]
    },
    {
      "cell_type": "code",
      "execution_count": 49,
      "metadata": {
        "id": "L79mFAq12PjJ"
      },
      "outputs": [],
      "source": [
        "away_team_xg_strength_offense = epl_df.groupby('Away').agg({'xGAway':'sum', 'Away':['count','first']})"
      ]
    },
    {
      "cell_type": "code",
      "execution_count": 50,
      "metadata": {
        "id": "UwX7hClE3bi5"
      },
      "outputs": [],
      "source": [
        "away_team_xg_strength_offense.columns = ['xGAway','TotalGames','Away']"
      ]
    },
    {
      "cell_type": "code",
      "execution_count": 53,
      "metadata": {
        "id": "8Ak35BNs3nQ9"
      },
      "outputs": [],
      "source": [
        "away_team_xg_strength_offense['xGAway_offense_rating'] = (away_team_xg_strength_offense['xGAway']/away_team_xg_strength_offense['TotalGames'])/league_Mean_Away_xG"
      ]
    },
    {
      "cell_type": "code",
      "execution_count": null,
      "metadata": {
        "id": "rMus_5EW4KhM"
      },
      "outputs": [],
      "source": [
        "away_team_xg_strength_offense"
      ]
    },
    {
      "cell_type": "code",
      "execution_count": 56,
      "metadata": {
        "id": "vYbY9oNY4PIl"
      },
      "outputs": [],
      "source": [
        "away_team_xg_strength_offense = away_team_xg_strength_offense.reset_index(drop = True)"
      ]
    },
    {
      "cell_type": "code",
      "execution_count": 60,
      "metadata": {
        "id": "K9YpgocK4TFp"
      },
      "outputs": [],
      "source": [
        "away_team_xg_strength_offense = pd.DataFrame(away_team_xg_strength_offense)"
      ]
    },
    {
      "cell_type": "code",
      "execution_count": null,
      "metadata": {
        "id": "YIyX3E9z4h_J"
      },
      "outputs": [],
      "source": [
        "away_team_xg_strength_offense.sort_values('xGAway_offense_rating',ascending=False)"
      ]
    },
    {
      "cell_type": "code",
      "execution_count": 66,
      "metadata": {
        "id": "8hG8M0bi6uFr"
      },
      "outputs": [],
      "source": [
        "home_team_xg_strength_defense = epl_df.groupby('Home').agg({'xGAway': 'sum', 'Home': ['count', 'first']})"
      ]
    },
    {
      "cell_type": "code",
      "execution_count": null,
      "metadata": {
        "id": "zEhjasj67UBj"
      },
      "outputs": [],
      "source": [
        "home_team_xg_strength_defense"
      ]
    },
    {
      "cell_type": "code",
      "execution_count": 68,
      "metadata": {
        "id": "3EVAEdSA7hRv"
      },
      "outputs": [],
      "source": [
        "home_team_xg_strength_defense.columns = ['xGAway', 'TotalGames', 'Home']"
      ]
    },
    {
      "cell_type": "code",
      "execution_count": 70,
      "metadata": {
        "id": "4CC89mIW7kch"
      },
      "outputs": [],
      "source": [
        "home_team_xg_strength_defense['xGHome_defense_rating'] = (home_team_xg_strength_defense['xGAway'] / home_team_xg_strength_defense['TotalGames']) / league_Mean_Away_xG"
      ]
    },
    {
      "cell_type": "code",
      "execution_count": 71,
      "metadata": {
        "id": "lHrvGXeU7zLR"
      },
      "outputs": [],
      "source": [
        "home_team_xg_strength_defense = home_team_xg_strength_defense.reset_index(drop = True)"
      ]
    },
    {
      "cell_type": "code",
      "execution_count": null,
      "metadata": {
        "id": "Eba_nTY373QN"
      },
      "outputs": [],
      "source": [
        "home_team_xg_strength_defense.sort_values('xGHome_defense_rating')"
      ]
    },
    {
      "cell_type": "code",
      "execution_count": 78,
      "metadata": {
        "id": "3qBZRq_f8TTs"
      },
      "outputs": [],
      "source": [
        "home_team_xg_strength_defense = home_team_xg_strength_defense.rename(columns={'xGAway':'xG_Conceded_at_Home'})"
      ]
    },
    {
      "cell_type": "code",
      "execution_count": 81,
      "metadata": {
        "id": "tqxPDVmQ-L7t"
      },
      "outputs": [],
      "source": [
        "away_team_xg_strength_defense = epl_df.groupby('Away').agg({'xGHome': 'sum', 'Away': ['count', 'first']})"
      ]
    },
    {
      "cell_type": "code",
      "execution_count": null,
      "metadata": {
        "id": "1VU-2Y9D-bk5"
      },
      "outputs": [],
      "source": [
        "away_team_xg_strength_defense"
      ]
    },
    {
      "cell_type": "code",
      "execution_count": 83,
      "metadata": {
        "id": "eoNGQ96u-iDy"
      },
      "outputs": [],
      "source": [
        "away_team_xg_strength_defense.columns = ['xG_Conceded_at_Away', 'TotalGames', 'Away']"
      ]
    },
    {
      "cell_type": "code",
      "execution_count": 84,
      "metadata": {
        "id": "zY5njD7d-sSX"
      },
      "outputs": [],
      "source": [
        "away_team_xg_strength_defense['xGAway_defense_rating'] = (away_team_xg_strength_defense['xG_Conceded_at_Away'] / away_team_xg_strength_defense['TotalGames']) / league_Mean_Home_xG"
      ]
    },
    {
      "cell_type": "code",
      "execution_count": 85,
      "metadata": {
        "id": "zd3FwNTq-_Al"
      },
      "outputs": [],
      "source": [
        "away_team_xg_strength_defense = away_team_xg_strength_defense.reset_index(drop = True)"
      ]
    },
    {
      "cell_type": "code",
      "execution_count": null,
      "metadata": {
        "id": "Am5iVrbh_Ekl"
      },
      "outputs": [],
      "source": [
        "away_team_xg_strength_defense.sort_values('xGAway_defense_rating')"
      ]
    }
  ],
  "metadata": {
    "colab": {
      "provenance": []
    },
    "kernelspec": {
      "display_name": "Python 3",
      "name": "python3"
    },
    "language_info": {
      "name": "python"
    }
  },
  "nbformat": 4,
  "nbformat_minor": 0
}
