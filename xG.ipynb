{
  "nbformat": 4,
  "nbformat_minor": 0,
  "metadata": {
    "colab": {
      "provenance": []
    },
    "kernelspec": {
      "name": "python3",
      "display_name": "Python 3"
    },
    "language_info": {
      "name": "python"
    }
  },
  "cells": [
    {
      "cell_type": "code",
      "execution_count": 1,
      "metadata": {
        "id": "RdeLXz4ZdCuN"
      },
      "outputs": [],
      "source": [
        "import pandas as pd"
      ]
    },
    {
      "cell_type": "code",
      "source": [
        "pd.set_option('display.max_rows', 1000)"
      ],
      "metadata": {
        "id": "X33EcCKvkilK"
      },
      "execution_count": 2,
      "outputs": []
    },
    {
      "cell_type": "code",
      "source": [
        "url = 'https://fbref.com/en/comps/9/schedule/Premier-League-Scores-and-Fixtures'"
      ],
      "metadata": {
        "id": "ihNvyUibktHI"
      },
      "execution_count": 5,
      "outputs": []
    },
    {
      "cell_type": "code",
      "source": [
        "epl_list = []"
      ],
      "metadata": {
        "id": "dHz2z7nemYav"
      },
      "execution_count": 6,
      "outputs": []
    },
    {
      "cell_type": "code",
      "source": [
        "epl_list.append(pd.read_html(url,index_col=False,flavor='lxml')[0])"
      ],
      "metadata": {
        "id": "Fgn1kXb-me68"
      },
      "execution_count": 8,
      "outputs": []
    },
    {
      "cell_type": "code",
      "source": [
        "epl_list = pd.concat(epl_list, axis=0, ignore_index=True)"
      ],
      "metadata": {
        "id": "3GcUedT8opsv"
      },
      "execution_count": 9,
      "outputs": []
    },
    {
      "cell_type": "code",
      "source": [
        "epl_df = epl_list[epl_list['Wk'].notna()]"
      ],
      "metadata": {
        "id": "R_j7iRseovTX"
      },
      "execution_count": 12,
      "outputs": []
    },
    {
      "cell_type": "code",
      "source": [
        "epl_df = epl_df.rename(columns={'xG':'xGHome'\n",
        "                   ,'xG.1':'xGAway'})"
      ],
      "metadata": {
        "id": "1yd_ZAhvqRWH"
      },
      "execution_count": 14,
      "outputs": []
    },
    {
      "cell_type": "code",
      "source": [
        "print(epl_df.columns.tolist())"
      ],
      "metadata": {
        "colab": {
          "base_uri": "https://localhost:8080/"
        },
        "id": "HLsenxeeqg43",
        "outputId": "a166aca6-d848-4ce4-b899-e273b032e11a"
      },
      "execution_count": 20,
      "outputs": [
        {
          "output_type": "stream",
          "name": "stdout",
          "text": [
            "['Wk', 'Day', 'Date', 'Time', 'Home', 'xGHome', 'Score', 'xGAway', 'Away', 'Attendance', 'Venue', 'Referee', 'HomeScore', 'AwayScore']\n"
          ]
        }
      ]
    },
    {
      "cell_type": "code",
      "source": [
        "epl_df['HomeScore'] = epl_df['Score'].str[0]\n",
        "epl_df['AwayScore'] = epl_df['Score'].str[2]"
      ],
      "metadata": {
        "id": "fJkL0ZLOqrd8"
      },
      "execution_count": 16,
      "outputs": []
    },
    {
      "cell_type": "code",
      "source": [
        "epl_df = epl_df.drop(['Match Report','Notes'],axis=1)"
      ],
      "metadata": {
        "id": "7rQb5Q4ArQ-3"
      },
      "execution_count": 19,
      "outputs": []
    },
    {
      "cell_type": "code",
      "source": [
        "epl_df['Date'] = pd.to_datetime(epl_df['Date'])"
      ],
      "metadata": {
        "id": "_5sPYP6-rw2_"
      },
      "execution_count": 21,
      "outputs": []
    },
    {
      "cell_type": "code",
      "source": [
        "print(epl_df.head(5))"
      ],
      "metadata": {
        "id": "v_wBYfDLr490"
      },
      "execution_count": null,
      "outputs": []
    },
    {
      "cell_type": "code",
      "source": [
        "epl_df.sort_values(by='Date', inplace=True)"
      ],
      "metadata": {
        "id": "hZl3uSLNsaVH"
      },
      "execution_count": 23,
      "outputs": []
    },
    {
      "cell_type": "code",
      "source": [
        "epl_df = epl_df[['Wk','Day','Date','Time','Home','HomeScore','xGHome','AwayScore','xGAway','Away','Attendance','Venue','Referee']]"
      ],
      "metadata": {
        "id": "ny8cyQlqsrrj"
      },
      "execution_count": 24,
      "outputs": []
    },
    {
      "cell_type": "code",
      "source": [
        "epl_df = epl_df.dropna()"
      ],
      "metadata": {
        "id": "szED3RGVs6ef"
      },
      "execution_count": 25,
      "outputs": []
    },
    {
      "cell_type": "code",
      "source": [
        "epl_df = epl_df[['Date','Home','HomeScore','xGHome','AwayScore','xGAway','Away']].reset_index(drop=True)"
      ],
      "metadata": {
        "id": "FfnA0_s6tKdS"
      },
      "execution_count": 27,
      "outputs": []
    },
    {
      "cell_type": "code",
      "source": [
        "epl_df"
      ],
      "metadata": {
        "id": "eMA7fCPGtRg_"
      },
      "execution_count": null,
      "outputs": []
    },
    {
      "cell_type": "code",
      "source": [
        "league_Mean_Home_xG = round((epl_df['xGHome'].mean()),2)\n",
        "league_Mean_Away_xG = round((epl_df['xGAway'].mean()),2)"
      ],
      "metadata": {
        "id": "yxVN7DJXt9QY"
      },
      "execution_count": 29,
      "outputs": []
    },
    {
      "cell_type": "code",
      "source": [
        "print(f'The mean home expected goals is {league_Mean_Home_xG}')\n",
        "print(f'The mean away expected goals is {league_Mean_Away_xG}')"
      ],
      "metadata": {
        "id": "PvX1FnPguCXV"
      },
      "execution_count": null,
      "outputs": []
    },
    {
      "cell_type": "code",
      "source": [
        "home_team_xg_strength_offense = epl_df.groupby('Home').agg({'xGHome': 'sum', 'Home': ['count', 'first']})"
      ],
      "metadata": {
        "id": "2QUyLW0X0CYh"
      },
      "execution_count": 31,
      "outputs": []
    },
    {
      "cell_type": "code",
      "source": [
        "home_team_xg_strength_offense"
      ],
      "metadata": {
        "id": "8-rNlr3_0Gcw"
      },
      "execution_count": null,
      "outputs": []
    },
    {
      "cell_type": "code",
      "source": [
        "home_team_xg_strength_offense.columns = ['xGHome', 'TotalGames', 'Home']"
      ],
      "metadata": {
        "id": "_NPZGxU80vvX"
      },
      "execution_count": 36,
      "outputs": []
    },
    {
      "cell_type": "code",
      "source": [
        "home_team_xg_strength_offense['xGHome_offense_rating'] = (home_team_xg_strength_offense['xGHome'] / home_team_xg_strength_offense['TotalGames']) / league_Mean_Home_xG"
      ],
      "metadata": {
        "id": "MWBlclcM01EP"
      },
      "execution_count": 38,
      "outputs": []
    },
    {
      "cell_type": "code",
      "source": [
        "home_team_xg_strength_offense = home_team_xg_strength_offense.reset_index(drop = True)"
      ],
      "metadata": {
        "id": "y3BSRxGS1cc1"
      },
      "execution_count": 40,
      "outputs": []
    },
    {
      "cell_type": "code",
      "source": [
        "home_team_xg_strength_offense = pd.DataFrame(home_team_xg_strength_offense)"
      ],
      "metadata": {
        "id": "ZNLJToeh1fQF"
      },
      "execution_count": 42,
      "outputs": []
    },
    {
      "cell_type": "code",
      "source": [
        "home_team_xg_strength_offense.columns = ['xGHome', 'TotalGames','Home','xGHome_offense_rating']"
      ],
      "metadata": {
        "id": "N-QuuLzZ1n1i"
      },
      "execution_count": 43,
      "outputs": []
    },
    {
      "cell_type": "code",
      "source": [
        "home_team_xg_strength_offense = home_team_xg_strength_offense[['Home','xGHome','TotalGames','xGHome_offense_rating']]"
      ],
      "metadata": {
        "id": "MYzwzLaD1qpp"
      },
      "execution_count": 45,
      "outputs": []
    },
    {
      "cell_type": "code",
      "source": [
        "home_team_xg_strength_offense.sort_values('xGHome_offense_rating', ascending=False)"
      ],
      "metadata": {
        "id": "rl76BL5f10X5"
      },
      "execution_count": null,
      "outputs": []
    },
    {
      "cell_type": "code",
      "source": [
        "away_team_xg_strength_offense = epl_df.groupby('Away').agg({'xGAway':'sum', 'Away':['count','first']})"
      ],
      "metadata": {
        "id": "L79mFAq12PjJ"
      },
      "execution_count": 49,
      "outputs": []
    },
    {
      "cell_type": "code",
      "source": [
        "away_team_xg_strength_offense.columns = ['xGAway','TotalGames','Away']"
      ],
      "metadata": {
        "id": "UwX7hClE3bi5"
      },
      "execution_count": 50,
      "outputs": []
    },
    {
      "cell_type": "code",
      "source": [
        "away_team_xg_strength_offense['xGAway_offense_rating'] = (away_team_xg_strength_offense['xGAway']/away_team_xg_strength_offense['TotalGames'])/league_Mean_Away_xG"
      ],
      "metadata": {
        "id": "8Ak35BNs3nQ9"
      },
      "execution_count": 53,
      "outputs": []
    },
    {
      "cell_type": "code",
      "source": [
        "away_team_xg_strength_offense"
      ],
      "metadata": {
        "id": "rMus_5EW4KhM"
      },
      "execution_count": null,
      "outputs": []
    },
    {
      "cell_type": "code",
      "source": [
        "away_team_xg_strength_offense = away_team_xg_strength_offense.reset_index(drop = True)"
      ],
      "metadata": {
        "id": "vYbY9oNY4PIl"
      },
      "execution_count": 56,
      "outputs": []
    },
    {
      "cell_type": "code",
      "source": [
        "away_team_xg_strength_offense = pd.DataFrame(away_team_xg_strength_offense)"
      ],
      "metadata": {
        "id": "K9YpgocK4TFp"
      },
      "execution_count": 60,
      "outputs": []
    },
    {
      "cell_type": "code",
      "source": [
        "away_team_xg_strength_offense.sort_values('xGAway_offense_rating',ascending=False)"
      ],
      "metadata": {
        "id": "YIyX3E9z4h_J"
      },
      "execution_count": null,
      "outputs": []
    },
    {
      "cell_type": "code",
      "source": [
        "home_team_xg_strength_defense = epl_df.groupby('Home').agg({'xGAway': 'sum', 'Home': ['count', 'first']})"
      ],
      "metadata": {
        "id": "8hG8M0bi6uFr"
      },
      "execution_count": 66,
      "outputs": []
    },
    {
      "cell_type": "code",
      "source": [
        "home_team_xg_strength_defense"
      ],
      "metadata": {
        "id": "zEhjasj67UBj"
      },
      "execution_count": null,
      "outputs": []
    },
    {
      "cell_type": "code",
      "source": [
        "home_team_xg_strength_defense.columns = ['xGAway', 'TotalGames', 'Home']"
      ],
      "metadata": {
        "id": "3EVAEdSA7hRv"
      },
      "execution_count": 68,
      "outputs": []
    },
    {
      "cell_type": "code",
      "source": [
        "home_team_xg_strength_defense['xGHome_defense_rating'] = (home_team_xg_strength_defense['xGAway'] / home_team_xg_strength_defense['TotalGames']) / league_Mean_Away_xG"
      ],
      "metadata": {
        "id": "4CC89mIW7kch"
      },
      "execution_count": 70,
      "outputs": []
    },
    {
      "cell_type": "code",
      "source": [
        "home_team_xg_strength_defense = home_team_xg_strength_defense.reset_index(drop = True)"
      ],
      "metadata": {
        "id": "lHrvGXeU7zLR"
      },
      "execution_count": 71,
      "outputs": []
    },
    {
      "cell_type": "code",
      "source": [
        "home_team_xg_strength_defense.sort_values('xGHome_defense_rating')"
      ],
      "metadata": {
        "id": "Eba_nTY373QN"
      },
      "execution_count": null,
      "outputs": []
    },
    {
      "cell_type": "code",
      "source": [
        "home_team_xg_strength_defense = home_team_xg_strength_defense.rename(columns={'xGAway':'xG_Conceded_at_Home'})"
      ],
      "metadata": {
        "id": "3qBZRq_f8TTs"
      },
      "execution_count": 78,
      "outputs": []
    },
    {
      "cell_type": "code",
      "source": [
        "away_team_xg_strength_defense = epl_df.groupby('Away').agg({'xGHome': 'sum', 'Away': ['count', 'first']})"
      ],
      "metadata": {
        "id": "tqxPDVmQ-L7t"
      },
      "execution_count": 81,
      "outputs": []
    },
    {
      "cell_type": "code",
      "source": [
        "away_team_xg_strength_defense"
      ],
      "metadata": {
        "id": "1VU-2Y9D-bk5"
      },
      "execution_count": null,
      "outputs": []
    },
    {
      "cell_type": "code",
      "source": [
        "away_team_xg_strength_defense.columns = ['xG_Conceded_at_Away', 'TotalGames', 'Away']"
      ],
      "metadata": {
        "id": "eoNGQ96u-iDy"
      },
      "execution_count": 83,
      "outputs": []
    },
    {
      "cell_type": "code",
      "source": [
        "away_team_xg_strength_defense['xGAway_defense_rating'] = (away_team_xg_strength_defense['xG_Conceded_at_Away'] / away_team_xg_strength_defense['TotalGames']) / league_Mean_Home_xG"
      ],
      "metadata": {
        "id": "zY5njD7d-sSX"
      },
      "execution_count": 84,
      "outputs": []
    },
    {
      "cell_type": "code",
      "source": [
        "away_team_xg_strength_defense = away_team_xg_strength_defense.reset_index(drop = True)"
      ],
      "metadata": {
        "id": "zd3FwNTq-_Al"
      },
      "execution_count": 85,
      "outputs": []
    },
    {
      "cell_type": "code",
      "source": [
        "away_team_xg_strength_defense.sort_values('xGAway_defense_rating')"
      ],
      "metadata": {
        "id": "Am5iVrbh_Ekl"
      },
      "execution_count": null,
      "outputs": []
    },
    {
      "cell_type": "code",
      "source": [
        "chelsea_home_offense_rating = 0.916056\n",
        "liverpool_away_defense_rating = 1.019320\n",
        "\n",
        "chelsea_home_expected_xg = (chelsea_home_offense_rating * liverpool_away_defense_rating) * league_Mean_Home_xG\n",
        "\n",
        "liverpool_away_offense_rating = 1.332498\n",
        "chelsea_home_defense_rating = 0.981621\n",
        "\n",
        "liverpool_away_expected_xg = (liverpool_away_offense_rating * chelsea_home_defense_rating) * league_Mean_Away_xG"
      ],
      "metadata": {
        "id": "LaOgHEvXIg81"
      },
      "execution_count": 93,
      "outputs": []
    },
    {
      "cell_type": "code",
      "source": [
        "chelsea_home_expected_xg"
      ],
      "metadata": {
        "colab": {
          "base_uri": "https://localhost:8080/"
        },
        "id": "7e70-Z4SIkQC",
        "outputId": "067f7523-9b2c-4d83-aa7f-aba85deab2f9"
      },
      "execution_count": 94,
      "outputs": [
        {
          "output_type": "execute_result",
          "data": {
            "text/plain": [
              "1.4753316390336002"
            ]
          },
          "metadata": {},
          "execution_count": 94
        }
      ]
    },
    {
      "cell_type": "code",
      "source": [
        "liverpool_away_expected_xg"
      ],
      "metadata": {
        "colab": {
          "base_uri": "https://localhost:8080/"
        },
        "id": "7TOjPbwOImZr",
        "outputId": "cdfc30b1-d9be-49b1-9819-e3d55fece7dc"
      },
      "execution_count": 95,
      "outputs": [
        {
          "output_type": "execute_result",
          "data": {
            "text/plain": [
              "1.64809010426508"
            ]
          },
          "metadata": {},
          "execution_count": 95
        }
      ]
    },
    {
      "cell_type": "markdown",
      "source": [
        "Poisson Distribution to calculate the probabilites of the match result\n"
      ],
      "metadata": {
        "id": "tfxbmRLnJ6Lk"
      }
    },
    {
      "cell_type": "code",
      "source": [
        "import numpy as np\n",
        "from scipy.stats import poisson\n",
        "import seaborn as sns\n",
        "import matplotlib.pyplot as plt\n",
        "\n",
        "home_expectancy = chelsea_home_expected_xg\n",
        "away_expectancy = liverpool_away_expected_xg\n",
        "\n",
        "\n",
        "max_score = 7\n",
        "score_range = np.arange(0, max_score+1)\n",
        "\n",
        "home_pmf = poisson.pmf(score_range, home_expectancy)\n",
        "away_pmf = poisson.pmf(score_range, away_expectancy)\n",
        "\n",
        "# calculate the outer product of the home and away PMFs\n",
        "score_prob_matrix = np.outer(home_pmf, away_pmf)\n",
        "\n",
        "# reshape the matrix into a square matrix of score probabilities\n",
        "score_prob_matrix = score_prob_matrix.reshape(max_score+1, max_score+1)\n",
        "\n",
        "\n",
        "# set the figure size\n",
        "fig, ax = plt.subplots(figsize=(12, 8))\n",
        "\n",
        "# create a heatmap using seaborn\n",
        "sns.set()\n",
        "sns.heatmap(score_prob_matrix, cmap=\"coolwarm\", annot=True, fmt=\".4f\", square=True, cbar_kws={\"shrink\": 0.7}, ax=ax)\n",
        "\n",
        "# set the axis labels and title\n",
        "plt.xlabel(\"Away goals\")\n",
        "plt.ylabel(\"Home goals\")\n",
        "plt.title(\"Score probability matrix\")\n",
        "\n",
        "# display the plot\n",
        "plt.show()"
      ],
      "metadata": {
        "colab": {
          "base_uri": "https://localhost:8080/",
          "height": 727
        },
        "id": "huQ0d_t0KJi2",
        "outputId": "8639a663-6ff6-4025-d8c3-0fd7cacfde1e"
      },
      "execution_count": 113,
      "outputs": [
        {
          "output_type": "display_data",
          "data": {
            "text/plain": [
              "<Figure size 1200x800 with 2 Axes>"
            ],
            "image/png": "[encoded data removed]"
          },
          "metadata": {}
        }
      ]
    }
  ]
}